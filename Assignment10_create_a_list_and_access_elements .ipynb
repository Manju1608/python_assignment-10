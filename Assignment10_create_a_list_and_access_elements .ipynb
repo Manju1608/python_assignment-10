{
  "nbformat": 4,
  "nbformat_minor": 0,
  "metadata": {
    "colab": {
      "name": "Welcome To Colaboratory",
      "provenance": [],
      "collapsed_sections": [],
      "include_colab_link": true
    },
    "kernelspec": {
      "display_name": "Python 3",
      "name": "python3"
    }
  },
  "cells": [
    {
      "cell_type": "markdown",
      "metadata": {
        "id": "view-in-github",
        "colab_type": "text"
      },
      "source": [
        "<a href=\"https://colab.research.google.com/github/Manju1608/python_assignment-10/blob/master/Assignment10_create_a_list_and_access_elements%20.ipynb\" target=\"_parent\"><img src=\"https://colab.research.google.com/assets/colab-badge.svg\" alt=\"Open In Colab\"/></a>"
      ]
    },
    {
      "cell_type": "code",
      "metadata": {
        "id": "ZkpfRY5xDmxw",
        "colab_type": "code",
        "colab": {
          "base_uri": "https://localhost:8080/",
          "height": 149
        },
        "outputId": "c6d85058-add4-42d7-bcb3-1dd8205b6311"
      },
      "source": [
        " courses=[\"cse\",\"ece\",\"mech\",\"civil\"]print(courses)print(\"i have selected\")print(courses[0])print(courses[0:2])print(courses[-4])print(courses[0])list=[1,3,2,3,4,4,5,6,6,6]print(list)list1=[1,2,'cse','it',5,6]print(list1)print(len(list))print(len(list1))list2=[]print(len(list2))list3=[1,2,3+4j,\"cse\"]print(list3)"
      ],
      "execution_count": 2,
      "outputs": [
        {
          "output_type": "error",
          "ename": "SyntaxError",
          "evalue": "ignored",
          "traceback": [
            "\u001b[0;36m  File \u001b[0;32m\"<ipython-input-2-77dea9f9f983>\"\u001b[0;36m, line \u001b[0;32m1\u001b[0m\n\u001b[0;31m    courses=[\"cse\",\"ece\",\"mech\",\"civil\"]print(courses)print(\"i have selected\")print(courses[0])print(courses[0:2])print(courses[-4])print(courses[0])list=[1,3,2,3,4,4,5,6,6,6]print(list)list1=[1,2,'cse','it',5,6]print(list1)print(len(list))print(len(list1))list2=[]print(len(list2))list3=[1,2,3+4j,\"cse\"]print(list3)\u001b[0m\n\u001b[0m                                            ^\u001b[0m\n\u001b[0;31mSyntaxError\u001b[0m\u001b[0;31m:\u001b[0m invalid syntax\n"
          ]
        }
      ]
    }
  ]
}